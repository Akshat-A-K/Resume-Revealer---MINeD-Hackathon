{
 "cells": [
  {
   "cell_type": "code",
   "execution_count": 1,
   "metadata": {},
   "outputs": [
    {
     "name": "stderr",
     "output_type": "stream",
     "text": [
      "C:\\Users\\OM MEHRA\\AppData\\Local\\Programs\\Python\\Python311\\Lib\\site-packages\\tqdm\\auto.py:21: TqdmWarning: IProgress not found. Please update jupyter and ipywidgets. See https://ipywidgets.readthedocs.io/en/stable/user_install.html\n",
      "  from .autonotebook import tqdm as notebook_tqdm\n"
     ]
    },
    {
     "name": "stdout",
     "output_type": "stream",
     "text": [
      "Model for skills extraction from project descriptions loaded...\n",
      "F1-score (micro): 0.1887\n",
      "Model for skills extraction from job descriptions loaded...\n",
      "F1-score (micro): 0.0455\n"
     ]
    },
    {
     "name": "stderr",
     "output_type": "stream",
     "text": [
      "C:\\Users\\OM MEHRA\\AppData\\Local\\Programs\\Python\\Python311\\Lib\\site-packages\\cupy\\_environment.py:216: UserWarning: CUDA path could not be detected. Set CUDA_PATH environment variable if CuPy fails to load.\n",
      "  warnings.warn(\n"
     ]
    }
   ],
   "source": [
    "import pdf2text\n",
    "import pandas as pd\n",
    "import html2txt\n",
    "import doc2pdf\n",
    "import tex2pdf\n",
    "import re\n",
    "import nltk\n",
    "import project_pred\n",
    "import job_pred\n",
    "from pyresparser import ResumeParser\n",
    "import TrajectoryGeneration as tg\n",
    "import json\n",
    "import link\n",
    "from difflib import get_close_matches"
   ]
  },
  {
   "cell_type": "code",
   "execution_count": 2,
   "metadata": {},
   "outputs": [
    {
     "name": "stderr",
     "output_type": "stream",
     "text": [
      "[nltk_data] Downloading package punkt to C:\\Users\\OM\n",
      "[nltk_data]     MEHRA\\AppData\\Roaming\\nltk_data...\n",
      "[nltk_data]   Package punkt is already up-to-date!\n",
      "[nltk_data] Downloading package averaged_perceptron_tagger to\n",
      "[nltk_data]     C:\\Users\\OM MEHRA\\AppData\\Roaming\\nltk_data...\n",
      "[nltk_data]   Package averaged_perceptron_tagger is already up-to-\n",
      "[nltk_data]       date!\n",
      "[nltk_data] Downloading package maxent_ne_chunker to C:\\Users\\OM\n",
      "[nltk_data]     MEHRA\\AppData\\Roaming\\nltk_data...\n",
      "[nltk_data]   Package maxent_ne_chunker is already up-to-date!\n",
      "[nltk_data] Downloading package words to C:\\Users\\OM\n",
      "[nltk_data]     MEHRA\\AppData\\Roaming\\nltk_data...\n",
      "[nltk_data]   Package words is already up-to-date!\n"
     ]
    },
    {
     "data": {
      "text/plain": [
       "True"
      ]
     },
     "execution_count": 2,
     "metadata": {},
     "output_type": "execute_result"
    }
   ],
   "source": [
    "nltk.download('punkt')\n",
    "nltk.download('averaged_perceptron_tagger')\n",
    "nltk.download('maxent_ne_chunker')\n",
    "nltk.download('words')"
   ]
  },
  {
   "cell_type": "code",
   "execution_count": 3,
   "metadata": {},
   "outputs": [],
   "source": [
    "ans = {}"
   ]
  },
  {
   "cell_type": "code",
   "execution_count": 4,
   "metadata": {},
   "outputs": [],
   "source": [
    "input_file = 'level3_resume.pdf'\n",
    "output_file = 'ouput_.txt'\n",
    "s = input_file"
   ]
  },
  {
   "cell_type": "code",
   "execution_count": 5,
   "metadata": {},
   "outputs": [
    {
     "data": {
      "text/plain": [
       "'pdf'"
      ]
     },
     "execution_count": 5,
     "metadata": {},
     "output_type": "execute_result"
    }
   ],
   "source": [
    "ext = s.split('.')[-1]\n",
    "ext"
   ]
  },
  {
   "cell_type": "code",
   "execution_count": 6,
   "metadata": {},
   "outputs": [
    {
     "name": "stderr",
     "output_type": "stream",
     "text": [
      "C:\\Users\\OM MEHRA\\AppData\\Local\\Programs\\Python\\Python311\\Lib\\site-packages\\spacy\\util.py:275: UserWarning: [W031] Model 'en_training' (0.0.0) requires spaCy v2.1 and is incompatible with the current spaCy version (2.3.9). This may lead to unexpected results or runtime errors. To resolve this, download a newer compatible model or retrain your custom model with the current spaCy version. For more details and available updates, run: python -m spacy validate\n",
      "  warnings.warn(warn_msg)\n"
     ]
    },
    {
     "name": "stdout",
     "output_type": "stream",
     "text": [
      "{'name': 'Riverside Drive', 'email': 'bdw102@columbia.edu', 'mobile_number': '(212) 716-0964', 'skills': ['Presentations', 'Networking', 'Powerpoint', 'Editing', 'Excel', 'Microsoft word', 'Communication', 'Python', 'Research', 'Strategy', 'Training', 'Machine learning', 'Recruiting', 'C', 'Media relations', 'Outreach', 'Schedules', 'Spanish', 'Design', 'French', 'Word'], 'college_name': None, 'degree': ['Bachelor of Arts in Political Science, GPA: 3.4/4.0\\nExpected May 2024'], 'designation': None, 'experience': None, 'company_names': None, 'no_of_pages': 3, 'total_experience': 0}\n"
     ]
    }
   ],
   "source": [
    "data = ResumeParser(input_file).get_extracted_data()\n",
    "print(data)"
   ]
  },
  {
   "cell_type": "code",
   "execution_count": 7,
   "metadata": {},
   "outputs": [
    {
     "name": "stdout",
     "output_type": "stream",
     "text": [
      "{'name': 'Riverside Drive', 'email': 'bdw102@columbia.edu', 'mobile_number': '(212) 716-0964', 'degree': ['Bachelor of Arts in Political Science, GPA: 3.4/4.0\\nExpected May 2024']}\n"
     ]
    }
   ],
   "source": [
    "ans['name'] = data['name']\n",
    "ans['email'] = data['email']\n",
    "ans['mobile_number'] = data['mobile_number']\n",
    "ans['degree'] = data['degree']\n",
    "print(ans)"
   ]
  },
  {
   "cell_type": "code",
   "execution_count": 8,
   "metadata": {},
   "outputs": [
    {
     "name": "stdout",
     "output_type": "stream",
     "text": [
      "BRENDAN WEAVER\n",
      "549 Riverside Drive, New York, NY 10025 \n",
      "(212) 716-0964  bdw102@columbia.edu\n",
      "EDUCATION:\n",
      "Columbia University, School of General Studies, New York, NY\n",
      "Bachelor of Arts in Political Science, GPA: 3.4/4.0\n",
      "Expected May 2024\n",
      "Related Coursework: Strategy Formulation, Leadership in Organization, Constitutional\n",
      "Law: Presidential-Congressional Relations, Strategic Intelligence/Political Decision\n",
      "Making\n",
      "EXPERIENCE:\n",
      "NBC Universal, Business Development Intern, NBC News, New York, NY\n",
      "2023-Present\n",
      " Develop presentations for news correspondents by conducting research on\n",
      "business consultants providing Hostile Environment Training to journalists broadcasting\n",
      "from dangerous locations\n",
      " Supervise and maintain news correspondents training schedules to ensure\n",
      "successful completion of instructional program\n",
      " Coordinate and manage NBC Universals veteran affinity group events and\n",
      "conferences to strengthen membership base\n",
      "The New York Times At War Blog, Contributor, New York, NY\n",
      "2022-Present\n",
      " Write about experiences and life lessons while serving in the US Army and its role\n",
      "in furthering education\n",
      "US Army, Airbone Infantry\n",
      "Squad Leader in Alpha Company, 9th Infantry, New York National Guard, New\n",
      "York, NY\n",
      "2018-2019\n",
      " Managed and trained a 9-person infantry unit in basic military skills in preparation\n",
      "for possible worldwide deployment\n",
      " Instructed over 500 soldiers in media relations during units annual summer\n",
      "training\n",
      "Training Room Noncommissioned Officer in Charge, Ft. Richardson, AK;\n",
      "Combat Outpost, Afghanistan\n",
      "2017-2018\n",
      " Supervised a team of 2 in charge of personnel and communication matters in a\n",
      "90-person company\n",
      " Organized companys paperwork and records ensuring that all files were properly\n",
      "distributed and completed\n",
      "Charlie Troop Air Noncommissioned Officer in Charge, Combat Outpost,\n",
      "Afghanistan\n",
      "2016-2017\n",
      " Arranged helicopter assets coming into combat outpost to resupply unit and airlift\n",
      "personnel to other locations\n",
      " Aided helicopter crews and supervised personnel in downloading all military\n",
      "equipment, supplies, and passengers into and out of a combat zone\n",
      "Airborne Infantryman, C TRP 1-40 Cavalry, Airborne, Ft. Richardson, AK; Baghdad,\n",
      "Iraq\n",
      "2013-2016\n",
      " Deployed to Operation Iraqi Freedom from October 2010 to November 2011 as\n",
      "grenadier in a 20-person Scout Reconnaissance Platoon accomplishing an estimated\n",
      "200 combat missions\n",
      " Served time as a team leader in charge of 2 additional individuals while in Iraq\n",
      "LEADERSHIP ACTIVITIES:\n",
      "Columbia University, Military Veterans Club, New York, NY\n",
      "Vice President\n",
      "2022-Present\n",
      " Created and implemented the Veteran Career Initiative at Columbia, which\n",
      "included 3 skill-building workshops, 10 employer presentations with a networking\n",
      "component, and 15 recruiting events\n",
      "Community Service Chair, New York, NY\n",
      "2020-2021\n",
      " Communicated with local service organizations to develop outreach opportunities\n",
      "for the organizations membership\n",
      " Coordinated community service involvement including clothing drives, homeless\n",
      "shelter visits, and tutoring for middle school-aged children from disadvantaged\n",
      "backgrounds\n",
      "VOLUNTEER EXPERIENCE:\n",
      "East Bronx Futures Academy, New York, NY\n",
      "2020-Present\n",
      "Volunteer\n",
      " Coach and prepare local teenagers for SAT, ACT, and TACHS examinations\n",
      " Design and teach individualized science curriculum to a group of 20 high school\n",
      "students\n",
      "90% accuracy, precision, machine learning,, deep learning, python, french language Jan\n",
      "2024-Present\n",
      "SKILLS & INTERESTS:\n",
      "Skills: Spanish fluency; Proficient in Microsoft Word, Excel, PowerPoint, Outlook\n",
      "Interests: Distance running, biographical and geopolitical literature, and editing\n",
      "Wikipedia articles\n",
      "\n"
     ]
    }
   ],
   "source": [
    "if ext == 'pdf':\n",
    "    pdf2text.get_text(input_file, output_file)\n",
    "elif ext == 'html' or ext == 'htm':\n",
    "    html2txt.convert_html_to_text(input_file,output_file)\n",
    "elif ext == 'docx':\n",
    "    dummy_file = 'dummy.pdf'\n",
    "    doc2pdf.converttopdf(input_file,dummy_file)\n",
    "    pdf2text.get_text(dummy_file, output_file)\n",
    "    input_file = dummy_file\n",
    "elif ext == 'tex':\n",
    "    dummy_file = 'dummy.pdf'\n",
    "    tex2pdf.tex_to_pdf(input_file, dummy_file)\n",
    "    pdf2text.get_text(dummy_file, output_file)\n",
    "else:\n",
    "    print(\"Input file format is not supported\")"
   ]
  },
  {
   "cell_type": "code",
   "execution_count": 9,
   "metadata": {},
   "outputs": [
    {
     "name": "stdout",
     "output_type": "stream",
     "text": [
      "[]\n"
     ]
    }
   ],
   "source": [
    "links = link.get_links(input_file)\n",
    "print(links)"
   ]
  },
  {
   "cell_type": "code",
   "execution_count": 10,
   "metadata": {},
   "outputs": [],
   "source": [
    "ans['links'] = links"
   ]
  },
  {
   "cell_type": "code",
   "execution_count": 11,
   "metadata": {},
   "outputs": [
    {
     "data": {
      "text/plain": [
       "'BRENDAN WEAVER\\n549 Riverside Drive, New York, NY 10025 \\n(212) 716-0964  bdw102@columbia.edu\\nEDUCATION:\\nColumbia University, School of General Studies, New York, NY\\nBachelor of Arts in Political Science, GPA: 3.4/4.0\\nExpected May 2024\\nRelated Coursework: Strategy Formulation, Leadership in Organization, Constitutional\\nLaw: Presidential-Congressional Relations, Strategic Intelligence/Political Decision\\nMaking\\nEXPERIENCE:\\nNBC Universal, Business Development Intern, NBC News, New York, NY\\n2023-Present\\n Develop presentations for news correspondents by conducting research on\\nbusiness consultants providing Hostile Environment Training to journalists broadcasting\\nfrom dangerous locations\\n Supervise and maintain news correspondents training schedules to ensure\\nsuccessful completion of instructional program\\n Coordinate and manage NBC Universals veteran affinity group events and\\nconferences to strengthen membership base\\nThe New York Times At War Blog, Contributor, New York, NY\\n2022-Present\\n Write about experiences and life lessons while serving in the US Army and its role\\nin furthering education\\nUS Army, Airbone Infantry\\nSquad Leader in Alpha Company, 9th Infantry, New York National Guard, New\\nYork, NY\\n2018-2019\\n Managed and trained a 9-person infantry unit in basic military skills in preparation\\nfor possible worldwide deployment\\n Instructed over 500 soldiers in media relations during units annual summer\\ntraining\\nTraining Room Noncommissioned Officer in Charge, Ft. Richardson, AK;\\nCombat Outpost, Afghanistan\\n2017-2018\\n Supervised a team of 2 in charge of personnel and communication matters in a\\n90-person company\\n Organized companys paperwork and records ensuring that all files were properly\\ndistributed and completed\\nCharlie Troop Air Noncommissioned Officer in Charge, Combat Outpost,\\nAfghanistan\\n2016-2017\\n Arranged helicopter assets coming into combat outpost to resupply unit and airlift\\npersonnel to other locations\\n Aided helicopter crews and supervised personnel in downloading all military\\nequipment, supplies, and passengers into and out of a combat zone\\nAirborne Infantryman, C TRP 1-40 Cavalry, Airborne, Ft. Richardson, AK; Baghdad,\\nIraq\\n2013-2016\\n Deployed to Operation Iraqi Freedom from October 2010 to November 2011 as\\ngrenadier in a 20-person Scout Reconnaissance Platoon accomplishing an estimated\\n200 combat missions\\n Served time as a team leader in charge of 2 additional individuals while in Iraq\\nLEADERSHIP ACTIVITIES:\\nColumbia University, Military Veterans Club, New York, NY\\nVice President\\n2022-Present\\n Created and implemented the Veteran Career Initiative at Columbia, which\\nincluded 3 skill-building workshops, 10 employer presentations with a networking\\ncomponent, and 15 recruiting events\\nCommunity Service Chair, New York, NY\\n2020-2021\\n Communicated with local service organizations to develop outreach opportunities\\nfor the organizations membership\\n Coordinated community service involvement including clothing drives, homeless\\nshelter visits, and tutoring for middle school-aged children from disadvantaged\\nbackgrounds\\nVOLUNTEER EXPERIENCE:\\nEast Bronx Futures Academy, New York, NY\\n2020-Present\\nVolunteer\\n Coach and prepare local teenagers for SAT, ACT, and TACHS examinations\\n Design and teach individualized science curriculum to a group of 20 high school\\nstudents\\n90% accuracy, precision, machine learning,, deep learning, python, french language Jan\\n2024-Present\\nSKILLS & INTERESTS:\\nSkills: Spanish fluency; Proficient in Microsoft Word, Excel, PowerPoint, Outlook\\nInterests: Distance running, biographical and geopolitical literature, and editing\\nWikipedia articles\\n'"
      ]
     },
     "execution_count": 11,
     "metadata": {},
     "output_type": "execute_result"
    }
   ],
   "source": [
    "s=''\n",
    "with open(output_file,'r') as f:\n",
    "  s=f.read()\n",
    "s"
   ]
  },
  {
   "cell_type": "code",
   "execution_count": 12,
   "metadata": {},
   "outputs": [],
   "source": [
    "import string\n",
    "\n",
    "def extract_ascii(text):\n",
    "    ascii_chars = set(string.ascii_letters + string.punctuation + string.digits + string.whitespace)\n",
    "    ascii_text = ''.join(char for char in text if char in ascii_chars)\n",
    "    return ascii_text"
   ]
  },
  {
   "cell_type": "code",
   "execution_count": 13,
   "metadata": {},
   "outputs": [],
   "source": [
    "s=extract_ascii(s)"
   ]
  },
  {
   "cell_type": "code",
   "execution_count": 14,
   "metadata": {},
   "outputs": [],
   "source": [
    "Keywords = [\"education\",\n",
    "            \"co-curricular activities\",\n",
    "            \"summary\",\n",
    "            \"accomplishments\",\n",
    "            \"executive profile\",\n",
    "            \"professional profile\",\n",
    "            \"personal profile\",\n",
    "            \"work background\",\n",
    "            \"academic profile\",\n",
    "            \"other activities\",\n",
    "            \"qualifications\",\n",
    "            \"experience\",\n",
    "            \"skills & interests\",\n",
    "            \"interests\",\n",
    "            \"skills\",\n",
    "            \"achievements\",\n",
    "            \"publications\",\n",
    "            \"publication\",\n",
    "            \"certifications\",\n",
    "            \"workshops\",\n",
    "            \"projects\",\n",
    "            \"internships\",\n",
    "            \"trainings\",\n",
    "            \"hobbies\",\n",
    "            \"overview\",\n",
    "            \"objective\",\n",
    "            \"position of responsibility\",\n",
    "            \"jobs\"\n",
    "           ]"
   ]
  },
  {
   "cell_type": "code",
   "execution_count": 15,
   "metadata": {},
   "outputs": [
    {
     "name": "stdout",
     "output_type": "stream",
     "text": [
      "{'education': None, 'co-curricular activities': None, 'summary': None, 'accomplishments': None, 'executive profile': None, 'professional profile': None, 'personal profile': None, 'work background': None, 'academic profile': None, 'other activities': None, 'qualifications': None, 'experience': None, 'skills & interests': None, 'interests': None, 'skills': None, 'achievements': None, 'publications': None, 'publication': None, 'certifications': None, 'workshops': None, 'projects': None, 'internships': None, 'trainings': None, 'hobbies': None, 'overview': None, 'objective': None, 'position of responsibility': None, 'jobs': None}\n"
     ]
    }
   ],
   "source": [
    "parsed_content = {i: None for i in Keywords}\n",
    "print(parsed_content)"
   ]
  },
  {
   "cell_type": "code",
   "execution_count": 16,
   "metadata": {},
   "outputs": [
    {
     "name": "stdout",
     "output_type": "stream",
     "text": [
      "brendan weaver 549 riverside drive, new york, ny 10025  (212) 716-0964  bdw102@columbia.edu education: columbia university, school of general studies, new york, ny bachelor of arts in political science, gpa: 3.4/4.0 expected may 2024 related coursework: strategy formulation, leadership in organization, constitutional law: presidential-congressional relations, strategic intelligence/political decision making experience: nbc universal, business development intern, nbc news, new york, ny 2023-present  develop presentations for news correspondents by conducting research on business consultants providing hostile environment training to journalists broadcasting from dangerous locations  supervise and maintain news correspondents training schedules to ensure successful completion of instructional program  coordinate and manage nbc universals veteran affinity group events and conferences to strengthen membership base the new york times at war blog, contributor, new york, ny 2022-present  write about experiences and life lessons while serving in the us army and its role in furthering education us army, airbone infantry squad leader in alpha company, 9th infantry, new york national guard, new york, ny 2018-2019  managed and trained a 9-person infantry unit in basic military skills in preparation for possible worldwide deployment  instructed over 500 soldiers in media relations during units annual summer training training room noncommissioned officer in charge, ft. richardson, ak; combat outpost, afghanistan 2017-2018  supervised a team of 2 in charge of personnel and communication matters in a 90-person company  organized companys paperwork and records ensuring that all files were properly distributed and completed charlie troop air noncommissioned officer in charge, combat outpost, afghanistan 2016-2017  arranged helicopter assets coming into combat outpost to resupply unit and airlift personnel to other locations  aided helicopter crews and supervised personnel in downloading all military equipment, supplies, and passengers into and out of a combat zone airborne infantryman, c trp 1-40 cavalry, airborne, ft. richardson, ak; baghdad, iraq 2013-2016  deployed to operation iraqi freedom from october 2010 to november 2011 as grenadier in a 20-person scout reconnaissance platoon accomplishing an estimated 200 combat missions  served time as a team leader in charge of 2 additional individuals while in iraq leadership activities: columbia university, military veterans club, new york, ny vice president 2022-present  created and implemented the veteran career initiative at columbia, which included 3 skill-building workshops, 10 employer presentations with a networking component, and 15 recruiting events community service chair, new york, ny 2020-2021  communicated with local service organizations to develop outreach opportunities for the organizations membership  coordinated community service involvement including clothing drives, homeless shelter visits, and tutoring for middle school-aged children from disadvantaged backgrounds volunteer experience: east bronx futures academy, new york, ny 2020-present volunteer  coach and prepare local teenagers for sat, act, and tachs examinations  design and teach individualized science curriculum to a group of 20 high school students 90% accuracy, precision, machine learning,, deep learning, python, french language jan 2024-present skills & interests: skills: spanish fluency; proficient in microsoft word, excel, powerpoint, outlook interests: distance running, biographical and geopolitical literature, and editing wikipedia articles \n"
     ]
    }
   ],
   "source": [
    "text = s.replace(\"\\n\",\" \")\n",
    "text = text.replace(\"[^a-zA-Z0-9]\", \" \");  \n",
    "re.sub('\\W+','', text)\n",
    "text = text.lower()\n",
    "print(text)"
   ]
  },
  {
   "cell_type": "code",
   "execution_count": 17,
   "metadata": {},
   "outputs": [],
   "source": [
    "content = {}\n",
    "indices = []\n",
    "keys = []\n",
    "for key in Keywords:\n",
    "    try:\n",
    "        content[key] = text[text.index(key) + len(key):]\n",
    "        indices.append(text.index(key))\n",
    "        keys.append(key)\n",
    "    except:\n",
    "        pass"
   ]
  },
  {
   "cell_type": "code",
   "execution_count": 18,
   "metadata": {},
   "outputs": [
    {
     "data": {
      "text/plain": [
       "['education',\n",
       " 'experience',\n",
       " 'skills',\n",
       " 'workshops',\n",
       " 'skills & interests',\n",
       " 'interests']"
      ]
     },
     "execution_count": 18,
     "metadata": {},
     "output_type": "execute_result"
    }
   ],
   "source": [
    "zipped_lists = zip(indices, keys)\n",
    "sorted_pairs = sorted(zipped_lists)\n",
    "sorted_pairs\n",
    "\n",
    "tuples = zip(*sorted_pairs)\n",
    "indices, keys = [ list(tuple) for tuple in  tuples]\n",
    "keys"
   ]
  },
  {
   "cell_type": "code",
   "execution_count": 19,
   "metadata": {},
   "outputs": [],
   "source": [
    "#Keeping the required content and removing the redundant part\n",
    "content = []\n",
    "for idx in range(len(indices)):\n",
    "    if idx != len(indices)-1:\n",
    "        content.append(text[indices[idx]: indices[idx+1]])\n",
    "    else:\n",
    "        content.append(text[indices[idx]: ])"
   ]
  },
  {
   "cell_type": "code",
   "execution_count": 20,
   "metadata": {},
   "outputs": [],
   "source": [
    "for i in range(len(indices)):\n",
    "    parsed_content[keys[i]] = content[i]"
   ]
  },
  {
   "cell_type": "code",
   "execution_count": 21,
   "metadata": {},
   "outputs": [
    {
     "data": {
      "text/plain": [
       "{'education': 'education: columbia university, school of general studies, new york, ny bachelor of arts in political science, gpa: 3.4/4.0 expected may 2024 related coursework: strategy formulation, leadership in organization, constitutional law: presidential-congressional relations, strategic intelligence/political decision making ',\n",
       " 'co-curricular activities': None,\n",
       " 'summary': None,\n",
       " 'accomplishments': None,\n",
       " 'executive profile': None,\n",
       " 'professional profile': None,\n",
       " 'personal profile': None,\n",
       " 'work background': None,\n",
       " 'academic profile': None,\n",
       " 'other activities': None,\n",
       " 'qualifications': None,\n",
       " 'experience': 'experience: nbc universal, business development intern, nbc news, new york, ny 2023-present  develop presentations for news correspondents by conducting research on business consultants providing hostile environment training to journalists broadcasting from dangerous locations  supervise and maintain news correspondents training schedules to ensure successful completion of instructional program  coordinate and manage nbc universals veteran affinity group events and conferences to strengthen membership base the new york times at war blog, contributor, new york, ny 2022-present  write about experiences and life lessons while serving in the us army and its role in furthering education us army, airbone infantry squad leader in alpha company, 9th infantry, new york national guard, new york, ny 2018-2019  managed and trained a 9-person infantry unit in basic military ',\n",
       " 'skills & interests': 'skills & ',\n",
       " 'interests': 'interests: skills: spanish fluency; proficient in microsoft word, excel, powerpoint, outlook interests: distance running, biographical and geopolitical literature, and editing wikipedia articles ',\n",
       " 'skills': 'skills in preparation for possible worldwide deployment  instructed over 500 soldiers in media relations during units annual summer training training room noncommissioned officer in charge, ft. richardson, ak; combat outpost, afghanistan 2017-2018  supervised a team of 2 in charge of personnel and communication matters in a 90-person company  organized companys paperwork and records ensuring that all files were properly distributed and completed charlie troop air noncommissioned officer in charge, combat outpost, afghanistan 2016-2017  arranged helicopter assets coming into combat outpost to resupply unit and airlift personnel to other locations  aided helicopter crews and supervised personnel in downloading all military equipment, supplies, and passengers into and out of a combat zone airborne infantryman, c trp 1-40 cavalry, airborne, ft. richardson, ak; baghdad, iraq 2013-2016  deployed to operation iraqi freedom from october 2010 to november 2011 as grenadier in a 20-person scout reconnaissance platoon accomplishing an estimated 200 combat missions  served time as a team leader in charge of 2 additional individuals while in iraq leadership activities: columbia university, military veterans club, new york, ny vice president 2022-present  created and implemented the veteran career initiative at columbia, which included 3 skill-building ',\n",
       " 'achievements': None,\n",
       " 'publications': None,\n",
       " 'publication': None,\n",
       " 'certifications': None,\n",
       " 'workshops': 'workshops, 10 employer presentations with a networking component, and 15 recruiting events community service chair, new york, ny 2020-2021  communicated with local service organizations to develop outreach opportunities for the organizations membership  coordinated community service involvement including clothing drives, homeless shelter visits, and tutoring for middle school-aged children from disadvantaged backgrounds volunteer experience: east bronx futures academy, new york, ny 2020-present volunteer  coach and prepare local teenagers for sat, act, and tachs examinations  design and teach individualized science curriculum to a group of 20 high school students 90% accuracy, precision, machine learning,, deep learning, python, french language jan 2024-present ',\n",
       " 'projects': None,\n",
       " 'internships': None,\n",
       " 'trainings': None,\n",
       " 'hobbies': None,\n",
       " 'overview': None,\n",
       " 'objective': None,\n",
       " 'position of responsibility': None,\n",
       " 'jobs': None}"
      ]
     },
     "execution_count": 21,
     "metadata": {},
     "output_type": "execute_result"
    }
   ],
   "source": [
    "parsed_content"
   ]
  },
  {
   "cell_type": "code",
   "execution_count": 22,
   "metadata": {},
   "outputs": [],
   "source": [
    "ans['education'] = parsed_content['education']\n",
    "ans['projects'] = parsed_content['projects']\n",
    "ans['skills'] = parsed_content['skills']\n",
    "ans['interests'] = parsed_content['interests']\n",
    "ans['experience'] = parsed_content['experience']"
   ]
  },
  {
   "cell_type": "code",
   "execution_count": 23,
   "metadata": {},
   "outputs": [],
   "source": [
    "wee = []\n",
    "wee.append(ans['projects'])\n",
    "ans['extracted_skills_projects'] = []\n",
    "if ans['projects']:    \n",
    "    ans['extracted_skills_projects'] = project_pred.prediction(wee)"
   ]
  },
  {
   "cell_type": "code",
   "execution_count": 24,
   "metadata": {},
   "outputs": [],
   "source": [
    "wee = []\n",
    "wee.append(ans['experience'])\n",
    "ans['extracted_skills_job'] = []\n",
    "if ans['experience']:\n",
    "    ans['extracted_skills_job'] = job_pred.prediction(wee)"
   ]
  },
  {
   "cell_type": "code",
   "execution_count": 29,
   "metadata": {},
   "outputs": [
    {
     "name": "stdout",
     "output_type": "stream",
     "text": [
      "An error occurred: time data 'October 2010' does not match format '%b %Y'\n"
     ]
    }
   ],
   "source": [
    "try:\n",
    "    gh, di = tg.career_trajectory(output_file)\n",
    "    current_job = di[-1][1]\n",
    "except Exception as e:\n",
    "    print(\"An error occurred:\", e)"
   ]
  },
  {
   "cell_type": "code",
   "execution_count": null,
   "metadata": {},
   "outputs": [],
   "source": []
  },
  {
   "cell_type": "code",
   "execution_count": 30,
   "metadata": {},
   "outputs": [],
   "source": [
    "onet = pd.read_csv('2019_Occupations.csv')"
   ]
  },
  {
   "cell_type": "code",
   "execution_count": 31,
   "metadata": {},
   "outputs": [],
   "source": [
    "onet_titles = onet['O*NET-SOC 2019 Title'].to_list()"
   ]
  },
  {
   "cell_type": "code",
   "execution_count": 32,
   "metadata": {},
   "outputs": [
    {
     "name": "stdout",
     "output_type": "stream",
     "text": [
      "An unexpected error occurred: name 'current_job' is not defined\n"
     ]
    }
   ],
   "source": [
    "try:\n",
    "    similar_titles = get_close_matches(current_job, onet_titles, n=3, cutoff=0.5)\n",
    "    print(\"Similar ONET job titles for\", current_job, \"are:\", similar_titles[0])\n",
    "    ans['O-NET title'] = similar_titles[0]\n",
    "except IndexError as e:\n",
    "    print(\"An error occurred:\", e)\n",
    "except Exception as e:\n",
    "    print(\"An unexpected error occurred:\", e)\n"
   ]
  },
  {
   "cell_type": "code",
   "execution_count": 33,
   "metadata": {},
   "outputs": [
    {
     "name": "stdout",
     "output_type": "stream",
     "text": [
      "name: Riverside Drive\n",
      "\n",
      "\n",
      "email: bdw102@columbia.edu\n",
      "\n",
      "\n",
      "mobile_number: (212) 716-0964\n",
      "\n",
      "\n",
      "degree: ['Bachelor of Arts in Political Science, GPA: 3.4/4.0\\nExpected May 2024']\n",
      "\n",
      "\n",
      "education: education: columbia university, school of general studies, new york, ny bachelor of arts in political science, gpa: 3.4/4.0 expected may 2024 related coursework: strategy formulation, leadership in organization, constitutional law: presidential-congressional relations, strategic intelligence/political decision making \n",
      "\n",
      "\n",
      "skills: skills in preparation for possible worldwide deployment  instructed over 500 soldiers in media relations during units annual summer training training room noncommissioned officer in charge, ft. richardson, ak; combat outpost, afghanistan 2017-2018  supervised a team of 2 in charge of personnel and communication matters in a 90-person company  organized companys paperwork and records ensuring that all files were properly distributed and completed charlie troop air noncommissioned officer in charge, combat outpost, afghanistan 2016-2017  arranged helicopter assets coming into combat outpost to resupply unit and airlift personnel to other locations  aided helicopter crews and supervised personnel in downloading all military equipment, supplies, and passengers into and out of a combat zone airborne infantryman, c trp 1-40 cavalry, airborne, ft. richardson, ak; baghdad, iraq 2013-2016  deployed to operation iraqi freedom from october 2010 to november 2011 as grenadier in a 20-person scout reconnaissance platoon accomplishing an estimated 200 combat missions  served time as a team leader in charge of 2 additional individuals while in iraq leadership activities: columbia university, military veterans club, new york, ny vice president 2022-present  created and implemented the veteran career initiative at columbia, which included 3 skill-building \n",
      "\n",
      "\n",
      "interests: interests: skills: spanish fluency; proficient in microsoft word, excel, powerpoint, outlook interests: distance running, biographical and geopolitical literature, and editing wikipedia articles \n",
      "\n",
      "\n",
      "experience: experience: nbc universal, business development intern, nbc news, new york, ny 2023-present  develop presentations for news correspondents by conducting research on business consultants providing hostile environment training to journalists broadcasting from dangerous locations  supervise and maintain news correspondents training schedules to ensure successful completion of instructional program  coordinate and manage nbc universals veteran affinity group events and conferences to strengthen membership base the new york times at war blog, contributor, new york, ny 2022-present  write about experiences and life lessons while serving in the us army and its role in furthering education us army, airbone infantry squad leader in alpha company, 9th infantry, new york national guard, new york, ny 2018-2019  managed and trained a 9-person infantry unit in basic military \n",
      "\n",
      "\n",
      "extracted_skills_job: ['Polymer engineering, formulation, process optimization, collaboration, material science.']\n",
      "\n",
      "\n"
     ]
    }
   ],
   "source": [
    "for key, value in ans.items():\n",
    "    if value:\n",
    "        print(f'{key}: {value}')\n",
    "        print('\\n')"
   ]
  },
  {
   "cell_type": "code",
   "execution_count": 34,
   "metadata": {},
   "outputs": [
    {
     "name": "stdout",
     "output_type": "stream",
     "text": [
      "The dictionary has been successfully converted to ans_output.txt.\n"
     ]
    }
   ],
   "source": [
    "text_file = 'ans_output.txt'\n",
    "\n",
    "with open(text_file, 'w') as file:\n",
    "    for key, value in ans.items():\n",
    "        if value:\n",
    "            file.write(f'{key}: {value}\\n\\n')\n",
    "\n",
    "print(f'The dictionary has been successfully converted to {text_file}.')"
   ]
  },
  {
   "cell_type": "code",
   "execution_count": null,
   "metadata": {},
   "outputs": [],
   "source": []
  },
  {
   "cell_type": "code",
   "execution_count": null,
   "metadata": {},
   "outputs": [],
   "source": []
  }
 ],
 "metadata": {
  "kernelspec": {
   "display_name": "Python 3 (ipykernel)",
   "language": "python",
   "name": "python3"
  },
  "language_info": {
   "codemirror_mode": {
    "name": "ipython",
    "version": 3
   },
   "file_extension": ".py",
   "mimetype": "text/x-python",
   "name": "python",
   "nbconvert_exporter": "python",
   "pygments_lexer": "ipython3",
   "version": "3.11.7"
  }
 },
 "nbformat": 4,
 "nbformat_minor": 4
}
